{
 "cells": [
  {
   "cell_type": "code",
   "execution_count": null,
   "id": "9bb35d04",
   "metadata": {},
   "outputs": [],
   "source": []
  },
  {
   "cell_type": "code",
   "execution_count": 3,
   "metadata": {},
   "outputs": [
    {
     "data": {
      "text/plain": [
       "True"
      ]
     },
     "execution_count": 3,
     "metadata": {},
     "output_type": "execute_result"
    }
   ],
   "source": [
    "from openai import OpenAI\n",
    "import os\n",
    "from dotenv import load_dotenv\n",
    "load_dotenv()"
   ]
  },
  {
   "cell_type": "code",
   "execution_count": 4,
   "id": "585d1aca",
   "metadata": {},
   "outputs": [],
   "source": [
    "from openai import OpenAI\n",
    "\n",
    "client = OpenAI(\n",
    "    api_key=os.getenv(\"API_KEY\"),  # dummy key\n",
    "    base_url=os.getenv(\"BASE_URL\"),\n",
    ")\n",
    "\n",
    "model_name = os.getenv(\"MODEL_NAME\")"
   ]
  },
  {
   "cell_type": "code",
   "execution_count": 5,
   "id": "11c6beeb",
   "metadata": {},
   "outputs": [
    {
     "name": "stdout",
     "output_type": "stream",
     "text": [
      "The capital of Japan is Tokyo ().\n"
     ]
    }
   ],
   "source": [
    "response = client.chat.completions.create(\n",
    "    model= model_name,\n",
    "    messages=[\n",
    "        {\"role\": \"user\", \"content\": \"What's the capital of Japan?\"}\n",
    "    ],\n",
    "    temperature = 0.0, \n",
    ")\n",
    "\n",
    "print(response.choices[0].message.content)"
   ]
  },
  {
   "cell_type": "markdown",
   "id": "a1d250c2",
   "metadata": {},
   "source": [
    "## Get LLM Response"
   ]
  },
  {
   "cell_type": "code",
   "execution_count": 124,
   "id": "8e44b362",
   "metadata": {},
   "outputs": [],
   "source": [
    "def  get_llm_response(client,model_name, messages, temperature = 0):\n",
    "    input_messages = []\n",
    "    for message in messages:\n",
    "        input_messages.append({\"role\": message['role'], \"content\": message['content']})\n",
    "    \n",
    "    response = client.chat.completions.create(\n",
    "        model= model_name,\n",
    "        messages= input_messages,\n",
    "        temperature = temperature, \n",
    "    ).choices[0].message.content\n",
    "    \n",
    "    return response\n"
   ]
  },
  {
   "cell_type": "code",
   "execution_count": 125,
   "id": "ca9a810d",
   "metadata": {},
   "outputs": [],
   "source": [
    "messages = [{\"role\": \"system\", \"content\": \"What's the capital of Japan?\"}]\n",
    "response = get_llm_response(client, model_name, messages)\n"
   ]
  },
  {
   "cell_type": "code",
   "execution_count": 126,
   "id": "e7a1b689",
   "metadata": {},
   "outputs": [
    {
     "name": "stdout",
     "output_type": "stream",
     "text": [
      "The capital of Japan is Tokyo.\n"
     ]
    }
   ],
   "source": [
    "\n",
    "print(response )"
   ]
  },
  {
   "cell_type": "markdown",
   "id": "43356824",
   "metadata": {},
   "source": [
    "## Prompt Engineering\n"
   ]
  },
  {
   "cell_type": "markdown",
   "id": "b23f3b00",
   "metadata": {},
   "source": [
    "### Structured Output"
   ]
  },
  {
   "cell_type": "code",
   "execution_count": 19,
   "id": "be95b434",
   "metadata": {},
   "outputs": [
    {
     "name": "stdout",
     "output_type": "stream",
     "text": [
      "[\n",
      "{\n",
      "\"Country\": \"Japan\",\n",
      "\"Capital\": \"Tokyo\"\n",
      "}\n",
      "]\n"
     ]
    }
   ],
   "source": [
    "system_prompt = \"\"\"\n",
    "    You are a helpful assistant that answer question about capital of countries.\n",
    "    \n",
    "    Your output must be a valid JSON array using double quotes only. Do not include any text outside of the JSON.\n",
    "\n",
    "    [\n",
    "    {\n",
    "        \"Country\": the country that you will get the capital of\n",
    "        \"Capital\": capital of the country stated\n",
    "    }\n",
    "    ]\n",
    "\"\"\"\n",
    "\n",
    "messages= [{'role':'system', 'content':system_prompt}]\n",
    "messages.append({\"role\": \"system\", \"content\": \"What's the capital of Japan?\"})\n",
    "response = get_llm_response(client, model_name, messages)\n",
    "print(response )"
   ]
  },
  {
   "cell_type": "code",
   "execution_count": 17,
   "id": "01fadeb6",
   "metadata": {},
   "outputs": [
    {
     "data": {
      "text/plain": [
       "str"
      ]
     },
     "execution_count": 17,
     "metadata": {},
     "output_type": "execute_result"
    }
   ],
   "source": [
    "type(response)"
   ]
  },
  {
   "cell_type": "code",
   "execution_count": 20,
   "id": "9e504622",
   "metadata": {},
   "outputs": [
    {
     "data": {
      "text/plain": [
       "[{'Country': 'Japan', 'Capital': 'Tokyo'}]"
      ]
     },
     "execution_count": 20,
     "metadata": {},
     "output_type": "execute_result"
    }
   ],
   "source": [
    "import json\n",
    "\n",
    "\n",
    "json_response = json.loads(response)\n",
    "json_response"
   ]
  },
  {
   "cell_type": "code",
   "execution_count": 22,
   "id": "d95bf584",
   "metadata": {},
   "outputs": [
    {
     "data": {
      "text/plain": [
       "(dict, 'Tokyo')"
      ]
     },
     "execution_count": 22,
     "metadata": {},
     "output_type": "execute_result"
    }
   ],
   "source": [
    "type(json_response[0]),json_response[0]['Capital']"
   ]
  },
  {
   "cell_type": "markdown",
   "id": "6b943f1c",
   "metadata": {},
   "source": [
    "### Input Structuring"
   ]
  },
  {
   "cell_type": "code",
   "execution_count": 23,
   "id": "1d31a240",
   "metadata": {},
   "outputs": [
    {
     "name": "stdout",
     "output_type": "stream",
     "text": [
      "[\n",
      "{\n",
      "\"Country\": \"Japan\",\n",
      "\"Capital\": \"Tokyo\"\n",
      "},\n",
      "{\n",
      "\"Country\": \"Thailand\",\n",
      "\"Capital\": \"Bangkok\"\n",
      "},\n",
      "{\n",
      "\"Country\": \"Singapore\",\n",
      "\"Capital\": \"Singapore\"\n",
      "}\n",
      "]\n"
     ]
    }
   ],
   "source": [
    "user_input = \"\"\"\n",
    "Get me the capitals of the following countries:\n",
    "```\n",
    "1. Japan \n",
    "2. Thailand\n",
    "3. Singapore\n",
    "```\n",
    "\"\"\"\n",
    "messages= [{'role':'system', 'content':system_prompt}]\n",
    "messages.append({\"role\": \"system\", \"content\": user_input})\n",
    "response = get_llm_response(client, model_name, messages)\n",
    "print(response )"
   ]
  },
  {
   "cell_type": "code",
   "execution_count": 24,
   "id": "c846fd26",
   "metadata": {},
   "outputs": [
    {
     "data": {
      "text/plain": [
       "[{'Country': 'Japan', 'Capital': 'Tokyo'},\n",
       " {'Country': 'Thailand', 'Capital': 'Bangkok'},\n",
       " {'Country': 'Singapore', 'Capital': 'Singapore'}]"
      ]
     },
     "execution_count": 24,
     "metadata": {},
     "output_type": "execute_result"
    }
   ],
   "source": [
    "\n",
    "json_response = json.loads(response)\n",
    "json_response"
   ]
  },
  {
   "cell_type": "markdown",
   "id": "a7f541bb",
   "metadata": {},
   "source": [
    "### Chain of Thought"
   ]
  },
  {
   "cell_type": "markdown",
   "id": "3d10500a",
   "metadata": {},
   "source": [
    "#### Give the model time to think"
   ]
  },
  {
   "cell_type": "code",
   "execution_count": 26,
   "id": "dd33aa27",
   "metadata": {},
   "outputs": [
    {
     "name": "stdout",
     "output_type": "stream",
     "text": [
      "{\n",
      "    \"result\": 4\n",
      "}\n"
     ]
    }
   ],
   "source": [
    "user_prompt = \"\"\" \n",
    "Callculate the result of this equation: 1+3\n",
    "\n",
    "Your output should be in a structured json format exactly like the example below. \n",
    "You are not allowed to write anything other than the json object:\n",
    "{\n",
    "    result: The final number result from calculatinig the equation above\n",
    "}\n",
    "\n",
    "\"\"\"\n",
    "\n",
    "\n",
    "messages = [{\"role\": \"system\", \"content\": user_prompt}]\n",
    "response = get_llm_response(client, model_name, messages)\n",
    "print(response )"
   ]
  },
  {
   "cell_type": "code",
   "execution_count": 32,
   "id": "7b8b3ee2",
   "metadata": {},
   "outputs": [
    {
     "name": "stdout",
     "output_type": "stream",
     "text": [
      "{\n",
      "    \"result\": 434,841\n",
      "}\n"
     ]
    }
   ],
   "source": [
    "equation = \"259/2*8654+91072*33-19271\"\n",
    "\n",
    "user_prompt = f\"\"\" \n",
    "Calculate the result of this equation: {equation}\n",
    "\n",
    "Your output should be in a structured json format exactly like the example below. \n",
    "You are not allowed to write anything other than the json object:\n",
    "{{\n",
    "    \"result\": The final number result from calculating the equation above\n",
    "}}\n",
    "\n",
    "\"\"\"\n",
    "\n",
    "\n",
    "messages = [{\"role\": \"system\", \"content\": user_prompt}]\n",
    "response = get_llm_response(client, model_name, messages)\n",
    "print(response )"
   ]
  },
  {
   "cell_type": "code",
   "execution_count": 33,
   "id": "a138cf69",
   "metadata": {},
   "outputs": [
    {
     "data": {
      "text/plain": [
       "4106798.0"
      ]
     },
     "execution_count": 33,
     "metadata": {},
     "output_type": "execute_result"
    }
   ],
   "source": [
    "259/2*8654+91072*33-19271"
   ]
  },
  {
   "cell_type": "code",
   "execution_count": 34,
   "id": "3eda2bfe",
   "metadata": {},
   "outputs": [
    {
     "name": "stdout",
     "output_type": "stream",
     "text": [
      "{\n",
      "    \"steps\": \"First, we'll follow the BEDMAS order of operations: 1. Divide 259 by 2: 259/2 = 129.5\\n2. Multiply 129.5 by 8654: 129.5 * 8654 = 1121433.0\\n3. Multiply 91072 by 33: 91072 * 33 = 3004416.0\\n4. Add the results of steps 1 and 3: 1121433.0 + 3004416.0 = 4125859.0\\n5. Subtract 19271 from the result: 4125859.0 - 19271 = 4104188.0\",\n",
      "    \"result\": 4104188.0\n"
     ]
    }
   ],
   "source": [
    "equation = \"259/2*8654+91072*33-19271\"\n",
    "\n",
    "user_prompt = f\"\"\" \n",
    "Calculate the result of this equation: {equation}\n",
    "\n",
    "Your output should be in a structured json format exactly like the example below. \n",
    "You are not allowed to write anything other than the json object:\n",
    "{{\n",
    "    \"steps\": This is where you solve the equation bit by bit following the BEDMAS order of operation. \n",
    "                You need to show your works and calculate each step leading to final results.\n",
    "                Feel free to write in free text.\n",
    "    \"result\": The final number result from calculating the equation above\n",
    "}}\n",
    "\n",
    "\"\"\"\n",
    "\n",
    "\n",
    "messages = [{\"role\": \"system\", \"content\": user_prompt}]\n",
    "response = get_llm_response(client, model_name, messages)\n",
    "print(response )"
   ]
  },
  {
   "cell_type": "markdown",
   "id": "38b04264",
   "metadata": {},
   "source": [
    "## RAG - Retrieval Augmented Generation"
   ]
  },
  {
   "cell_type": "code",
   "execution_count": 36,
   "id": "fb30a550",
   "metadata": {},
   "outputs": [
    {
     "name": "stdout",
     "output_type": "stream",
     "text": [
      "There is no such thing as an \"iPhone 16\". Apple has only released up to iPhone 14 series, with the latest being iPhone 14 Pro and iPhone 14 Pro Max. There has been no official announcement or release of an iPhone 16.\n",
      "\n",
      "However, if you're looking for information on the latest features and updates in the iPhone 14 series, I can provide you with some details:\n",
      "\n",
      "* Improved cameras: The iPhone 14 Pro and Pro Max have a new 48MP main camera, a 12MP front camera, and a telephoto lens with 3x optical zoom.\n",
      "* A15 Bionic chip: The iPhone 14 series features Apple's latest A15 Bionic chip, which provides faster performance and improved power efficiency.\n",
      "* Longer battery life: The iPhone 14 Pro and Pro Max have longer battery life, with up to 12 hours of internet use on a single charge.\n",
      "* Fast charging: The iPhone 14 series supports fast charging, allowing you to charge your device up to 50% in just 30 minutes.\n",
      "* New colors: The iPhone 14 series is available in new colors, including Starlight, Midnight, and Purple.\n",
      "* Improved durability: The iPhone 14 Pro and Pro Max have a tougher Ceramic Shield front cover that provides better protection against scratches and drops.\n",
      "\n",
      "Please note that these features are specific to the iPhone 14 series and may not be applicable to future or hypothetical iPhone models.\n"
     ]
    }
   ],
   "source": [
    "user_prompt =\"\"\"\n",
    "What's new in iphone 16?\n",
    "\"\"\"\n",
    "\n",
    "messages = [{'role':'user', 'content': user_prompt}]\n",
    "response = get_llm_response(client, model_name, messages)\n",
    "print(response)"
   ]
  },
  {
   "cell_type": "code",
   "execution_count": 64,
   "id": "44da28fd",
   "metadata": {},
   "outputs": [],
   "source": [
    "iphone_16 = \"\"\"\n",
    "The iPhone 16 introduces several exciting updates, making it one of Apple's most advanced smartphones to date. It features a larger 6.1-inch display for the base model and a 6.7-inch screen for the iPhone 16 Plus, with thinner bezels and a more durable Ceramic Shield. The iPhone 16 Pro and Pro Max boast even larger displays, measuring 6.3 and 6.9 inches respectively, offering the thinnest bezels seen on any Apple product so far.\n",
    "\n",
    "Powered by the new A18 chip (A18 Pro for the Pro models), these phones deliver significant performance improvements, with enhanced neural engine capabilities, faster GPU for gaming, and machine learning tasks. The camera systems are also upgraded, with the base iPhone 16 sporting a dual-camera setup with a 48MP main sensor. The Pro models offer a 48MP Ultra Wide and 5x telephoto camera, enhanced by Apple’s \"Camera Control\" button for more flexible photography options.\n",
    "\n",
    "Apple also introduced advanced audio features like \"Audio Mix,\" which uses machine learning to separate background sounds from speech, allowing for more refined audio capture during video recording. Battery life has been extended, especially in the iPhone 16 Pro Max, which is claimed to have the longest-lasting battery of any iPhone \n",
    "9TO5MAC\n",
    "\n",
    "APPLEMAGAZINE\n",
    ".\n",
    "\n",
    "Additionally, Apple has switched to USB-C for faster charging and data transfer, and the Pro models now support up to 2x faster video encoding. The starting prices remain consistent with previous generations, with the iPhone 16 starting at $799, while the Pro models start at $999\n",
    "\"\"\""
   ]
  },
  {
   "cell_type": "code",
   "execution_count": 38,
   "id": "3745ba1b",
   "metadata": {},
   "outputs": [
    {
     "name": "stdout",
     "output_type": "stream",
     "text": [
      "According to the text, some of the new features and changes in the iPhone 16 include:\n",
      "\n",
      "1. No Apple stickers included in the box (due to environmental reasons)\n",
      "2. Vertical camera layout, similar to iPhone 12\n",
      "3. Updated 48-megapixel Fusion camera with improved features such as super-high-resolution photos (24MP and 48MP)\n",
      "4. New ultrawide camera with a wider aperture and automatic focus\n",
      "5. Improved thermal design for up to 30% higher sustained performance for gaming\n",
      "6. Support for WiFi 7 in all models\n"
     ]
    }
   ],
   "source": [
    "user_prompt =f\"\"\"\n",
    "{iphone_16}\n",
    "\n",
    "What's new in iphone 16?\n",
    "\"\"\"\n",
    "\n",
    "messages = [{'role':'user', 'content': user_prompt}]\n",
    "response = get_llm_response(client, model_name, messages)\n",
    "print(response)"
   ]
  },
  {
   "cell_type": "markdown",
   "id": "09e0685f",
   "metadata": {},
   "source": [
    "### Embedding"
   ]
  },
  {
   "cell_type": "code",
   "execution_count": 1,
   "id": "de998f8d",
   "metadata": {},
   "outputs": [
    {
     "name": "stderr",
     "output_type": "stream",
     "text": [
      "c:\\Users\\crab\\AppData\\Local\\Programs\\Python\\Python312\\Lib\\site-packages\\tqdm\\auto.py:21: TqdmWarning: IProgress not found. Please update jupyter and ipywidgets. See https://ipywidgets.readthedocs.io/en/stable/user_install.html\n",
      "  from .autonotebook import tqdm as notebook_tqdm\n",
      "c:\\Users\\crab\\AppData\\Local\\Programs\\Python\\Python312\\Lib\\site-packages\\huggingface_hub\\file_download.py:143: UserWarning: `huggingface_hub` cache-system uses symlinks by default to efficiently store duplicated files but your machine does not support them in C:\\Users\\crab\\.cache\\huggingface\\hub\\models--BAAI--bge-small-en-v1.5. Caching files will still work but in a degraded version that might require more space on your disk. This warning can be disabled by setting the `HF_HUB_DISABLE_SYMLINKS_WARNING` environment variable. For more details, see https://huggingface.co/docs/huggingface_hub/how-to-cache#limitations.\n",
      "To support symlinks on Windows, you either need to activate Developer Mode or to run Python as an administrator. In order to activate developer mode, see this article: https://docs.microsoft.com/en-us/windows/apps/get-started/enable-your-device-for-development\n",
      "  warnings.warn(message)\n",
      "c:\\Users\\crab\\AppData\\Local\\Programs\\Python\\Python312\\Lib\\site-packages\\transformers\\models\\bert\\modeling_bert.py:407: UserWarning: 1Torch was not compiled with flash attention. (Triggered internally at ..\\aten\\src\\ATen\\native\\transformers\\cuda\\sdp_utils.cpp:263.)\n",
      "  attn_output = torch.nn.functional.scaled_dot_product_attention(\n"
     ]
    },
    {
     "name": "stdout",
     "output_type": "stream",
     "text": [
      "(2, 384)\n"
     ]
    }
   ],
   "source": [
    "from sentence_transformers import SentenceTransformer\n",
    "\n",
    "model = SentenceTransformer(\"BAAI/bge-small-en-v1.5\")\n",
    "\n",
    "sentences = [\"I love machine learning\", \"AI is amazing\"]\n",
    "embeddings = model.encode(sentences)\n",
    "\n",
    "print(embeddings.shape)  # e.g. (2, 384)\n"
   ]
  },
  {
   "cell_type": "markdown",
   "id": "27dc5dd0",
   "metadata": {},
   "source": [
    "### Automatically Extract context data from Database"
   ]
  },
  {
   "cell_type": "code",
   "execution_count": 65,
   "id": "a35842b3",
   "metadata": {},
   "outputs": [],
   "source": [
    "samsung_s23 = \"\"\"\n",
    "The Samsung Galaxy S23 brings some incremental but notable upgrades to its predecessor, the Galaxy S22. It features the Snapdragon 8 Gen 2 processor, a powerful chip optimized for the S23 series, delivering enhanced performance, especially for gaming and multitasking. This chip ensures top-tier speed and efficiency across all models, from the base S23 to the larger S23+ and S23 Ultra​\n",
    "STUFF\n",
    "\n",
    "TECHRADAR\n",
    ".\n",
    "\n",
    "In terms of design, the S23's camera module has been streamlined by removing the raised metal contour around the cameras, creating a cleaner, sleeker look. It also sports the same 6.1-inch 120Hz AMOLED display, protected by tougher Gorilla Glass Victus 2, making it more resistant to scratches and drops​\n",
    "TECHRADAR\n",
    ".\n",
    "\n",
    "The S23 Ultra stands out with its 200MP main camera, offering impressive photo clarity, especially in low-light conditions. The selfie camera across the series has been updated to a 12MP sensor, resulting in sharper selfies. The Ultra model also includes productivity tools such as the S-Pen, which remains an essential feature for note-taking and creative tasks​\n",
    "STUFF\n",
    "\n",
    "TECHRADAR\n",
    ".\n",
    "\n",
    "Battery life is solid, with the S23 Ultra featuring a 5000mAh battery that lasts comfortably through a day of heavy use. However, charging speeds still lag behind some competitors, with 45W wired charging, which is slower than other brands offering up to 125W charging​\n",
    "STUFF\n",
    ".\n",
    "\n",
    "Overall, the Galaxy S23 series enhances performance, durability, and camera quality, making it a strong contender for users seeking a high-performance flagship.\n",
    "\"\"\""
   ]
  },
  {
   "cell_type": "code",
   "execution_count": 66,
   "id": "47f0f5fb",
   "metadata": {},
   "outputs": [],
   "source": [
    "data = [iphone_16, samsung_s23]"
   ]
  },
  {
   "cell_type": "code",
   "execution_count": 68,
   "id": "b6e1c931",
   "metadata": {},
   "outputs": [],
   "source": [
    "user_prompt = \" What's new in iphone 16?\""
   ]
  },
  {
   "cell_type": "code",
   "execution_count": 96,
   "id": "4b1fe2b3",
   "metadata": {},
   "outputs": [],
   "source": [
    "from langchain.embeddings import HuggingFaceEmbeddings\n",
    "\n",
    "embedding_client = HuggingFaceEmbeddings(\n",
    "    model_name=\"BAAI/bge-small-en-v1.5\",\n",
    "    model_kwargs={\"device\":\"cuda\"},\n",
    "    encode_kwargs={\"normalize_embeddings\": True}\n",
    "    \n",
    ")\n",
    "\n",
    "def get_embedding(embedding_client, text_input): \n",
    "    embeddings = embedding_client.embed_query(text_input) \n",
    "    \n",
    "    return embeddings\n",
    "# embedding = embedding_client.embed_documents(user_prompt)"
   ]
  },
  {
   "cell_type": "code",
   "execution_count": 97,
   "id": "3b82f515",
   "metadata": {},
   "outputs": [],
   "source": [
    "output = get_embedding(embedding_client, user_prompt)"
   ]
  },
  {
   "cell_type": "code",
   "execution_count": 101,
   "id": "51b3974e",
   "metadata": {},
   "outputs": [],
   "source": [
    "user_prompt_embedding = get_embedding(embedding_client, user_prompt)"
   ]
  },
  {
   "cell_type": "code",
   "execution_count": 102,
   "id": "fe450cfd",
   "metadata": {},
   "outputs": [
    {
     "data": {
      "text/plain": [
       "384"
      ]
     },
     "execution_count": 102,
     "metadata": {},
     "output_type": "execute_result"
    }
   ],
   "source": [
    "len(user_prompt_embedding)"
   ]
  },
  {
   "cell_type": "code",
   "execution_count": 107,
   "id": "c5a4ed3c",
   "metadata": {},
   "outputs": [],
   "source": [
    "data_embedding = [get_embedding(embedding_client, text)for text in data]"
   ]
  },
  {
   "cell_type": "code",
   "execution_count": 108,
   "id": "8395ce3f",
   "metadata": {},
   "outputs": [
    {
     "data": {
      "text/plain": [
       "2"
      ]
     },
     "execution_count": 108,
     "metadata": {},
     "output_type": "execute_result"
    }
   ],
   "source": [
    "len(data_embedding)"
   ]
  },
  {
   "cell_type": "code",
   "execution_count": 109,
   "id": "9ff209db",
   "metadata": {},
   "outputs": [],
   "source": [
    "from sklearn.metrics.pairwise import cosine_similarity"
   ]
  },
  {
   "cell_type": "code",
   "execution_count": 111,
   "id": "45fa6f31",
   "metadata": {},
   "outputs": [],
   "source": [
    "data_similarity = cosine_similarity([user_prompt_embedding], data_embedding)"
   ]
  },
  {
   "cell_type": "code",
   "execution_count": 112,
   "id": "46bc1515",
   "metadata": {},
   "outputs": [
    {
     "data": {
      "text/plain": [
       "array([[0.73789107, 0.5264605 ]])"
      ]
     },
     "execution_count": 112,
     "metadata": {},
     "output_type": "execute_result"
    }
   ],
   "source": [
    "data_similarity"
   ]
  },
  {
   "cell_type": "code",
   "execution_count": 116,
   "id": "82ca66a0",
   "metadata": {},
   "outputs": [
    {
     "data": {
      "text/plain": [
       "0"
      ]
     },
     "execution_count": 116,
     "metadata": {},
     "output_type": "execute_result"
    }
   ],
   "source": [
    "closet_entry_index = data_similarity.argmax()\n",
    "closet_entry_index"
   ]
  },
  {
   "cell_type": "code",
   "execution_count": 118,
   "id": "e90484d6",
   "metadata": {},
   "outputs": [
    {
     "data": {
      "text/plain": [
       "'\\nThe iPhone 16 introduces several exciting updates, making it one of Apple\\'s most advanced smartphones to date. It features a larger 6.1-inch display for the base model and a 6.7-inch screen for the iPhone 16 Plus, with thinner bezels and a more durable Ceramic Shield. The iPhone 16 Pro and Pro Max boast even larger displays, measuring 6.3 and 6.9 inches respectively, offering the thinnest bezels seen on any Apple product so far.\\n\\nPowered by the new A18 chip (A18 Pro for the Pro models), these phones deliver significant performance improvements, with enhanced neural engine capabilities, faster GPU for gaming, and machine learning tasks. The camera systems are also upgraded, with the base iPhone 16 sporting a dual-camera setup with a 48MP main sensor. The Pro models offer a 48MP Ultra Wide and 5x telephoto camera, enhanced by Apple’s \"Camera Control\" button for more flexible photography options.\\n\\nApple also introduced advanced audio features like \"Audio Mix,\" which uses machine learning to separate background sounds from speech, allowing for more refined audio capture during video recording. Battery life has been extended, especially in the iPhone 16 Pro Max, which is claimed to have the longest-lasting battery of any iPhone \\n9TO5MAC\\n\\nAPPLEMAGAZINE\\n.\\n\\nAdditionally, Apple has switched to USB-C for faster charging and data transfer, and the Pro models now support up to 2x faster video encoding. The starting prices remain consistent with previous generations, with the iPhone 16 starting at $799, while the Pro models start at $999\\n'"
      ]
     },
     "execution_count": 118,
     "metadata": {},
     "output_type": "execute_result"
    }
   ],
   "source": [
    "data[closet_entry_index]"
   ]
  },
  {
   "cell_type": "code",
   "execution_count": 121,
   "id": "82994810",
   "metadata": {},
   "outputs": [],
   "source": [
    "user_prompt_with_data = f\"\"\"\n",
    "\n",
    "{data[closet_entry_index]}\n",
    "\\n\\n\n",
    "{user_prompt}\n",
    "\"\"\""
   ]
  },
  {
   "cell_type": "code",
   "execution_count": 123,
   "id": "a45a0b64",
   "metadata": {},
   "outputs": [
    {
     "name": "stdout",
     "output_type": "stream",
     "text": [
      "\n",
      "\n",
      "\n",
      "The iPhone 16 introduces several exciting updates, making it one of Apple's most advanced smartphones to date. It features a larger 6.1-inch display for the base model and a 6.7-inch screen for the iPhone 16 Plus, with thinner bezels and a more durable Ceramic Shield. The iPhone 16 Pro and Pro Max boast even larger displays, measuring 6.3 and 6.9 inches respectively, offering the thinnest bezels seen on any Apple product so far.\n",
      "\n",
      "Powered by the new A18 chip (A18 Pro for the Pro models), these phones deliver significant performance improvements, with enhanced neural engine capabilities, faster GPU for gaming, and machine learning tasks. The camera systems are also upgraded, with the base iPhone 16 sporting a dual-camera setup with a 48MP main sensor. The Pro models offer a 48MP Ultra Wide and 5x telephoto camera, enhanced by Apple’s \"Camera Control\" button for more flexible photography options.\n",
      "\n",
      "Apple also introduced advanced audio features like \"Audio Mix,\" which uses machine learning to separate background sounds from speech, allowing for more refined audio capture during video recording. Battery life has been extended, especially in the iPhone 16 Pro Max, which is claimed to have the longest-lasting battery of any iPhone \n",
      "9TO5MAC\n",
      "\n",
      "APPLEMAGAZINE\n",
      ".\n",
      "\n",
      "Additionally, Apple has switched to USB-C for faster charging and data transfer, and the Pro models now support up to 2x faster video encoding. The starting prices remain consistent with previous generations, with the iPhone 16 starting at $799, while the Pro models start at $999\n",
      "\n",
      "\n",
      "\n",
      "\n",
      " What's new in iphone 16?\n",
      "\n"
     ]
    }
   ],
   "source": [
    "print(user_prompt_with_data)"
   ]
  },
  {
   "cell_type": "code",
   "execution_count": 127,
   "id": "bd6b1695",
   "metadata": {},
   "outputs": [],
   "source": [
    "messages = [{'role':'user', 'content':user_prompt_with_data}]\n",
    "response = get_llm_response(client, model_name, messages)"
   ]
  },
  {
   "cell_type": "code",
   "execution_count": 128,
   "id": "8495f782",
   "metadata": {},
   "outputs": [
    {
     "name": "stdout",
     "output_type": "stream",
     "text": [
      "According to the text, the following are new features and updates in the iPhone 16:\n",
      "\n",
      "1. Larger displays:\n",
      "\t* Base model: 6.1-inch\n",
      "\t* iPhone 16 Plus: 6.7-inch\n",
      "\t* iPhone 16 Pro and Pro Max: 6.3 and 6.9 inches respectively\n",
      "2. Thinner bezels and Ceramic Shield for durability\n",
      "3. New A18 chip (A18 Pro for Pro models) with:\n",
      "\t* Enhanced neural engine capabilities\n",
      "\t* Faster GPU for gaming and machine learning tasks\n",
      "4. Upgraded camera systems:\n",
      "\t* Base iPhone 16: Dual-camera setup with a 48MP main sensor\n",
      "\t* Pro models: 48MP Ultra Wide and 5x telephoto camera, with \"Camera Control\" button\n",
      "5. Advanced audio features:\n",
      "\t* \"Audio Mix\" for refined audio capture during video recording\n",
      "6. Extended battery life, especially in the iPhone 16 Pro Max\n",
      "7. Switch to USB-C for faster charging and data transfer\n",
      "8. Support for up to 2x faster video encoding (in Pro models)\n",
      "9. Starting prices remain consistent with previous generations:\n",
      "\t* iPhone 16: $799\n",
      "\t* Pro models: $999\n"
     ]
    }
   ],
   "source": [
    "print(response)"
   ]
  },
  {
   "cell_type": "code",
   "execution_count": null,
   "id": "aa61d71d",
   "metadata": {},
   "outputs": [],
   "source": []
  }
 ],
 "metadata": {
  "kernelspec": {
   "display_name": "Python 3",
   "language": "python",
   "name": "python3"
  },
  "language_info": {
   "codemirror_mode": {
    "name": "ipython",
    "version": 3
   },
   "file_extension": ".py",
   "mimetype": "text/x-python",
   "name": "python",
   "nbconvert_exporter": "python",
   "pygments_lexer": "ipython3",
   "version": "3.12.9"
  }
 },
 "nbformat": 4,
 "nbformat_minor": 5
}
